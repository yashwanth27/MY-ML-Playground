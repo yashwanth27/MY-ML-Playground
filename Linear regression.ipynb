{
 "cells": [
  {
   "cell_type": "code",
   "execution_count": 16,
   "source": [
    "# In this section, you will work with a small dataset about diabetes that is built into Scikit-learn for learning purposes. \r\n",
    "# Imagine that you wanted to test a treatment for diabetic patients. \r\n",
    "# Machine Learning models might help you determine which patients would respond better to the treatment, based on combinations of variables.\r\n",
    "import matplotlib.pyplot as plt\r\n",
    "import numpy as np\r\n",
    "from sklearn import datasets, linear_model, model_selection\r\n",
    "# Above you are importing matplottlib, numpy and you are importing datasets, linear_model and model_selection from sklearn. \r\n",
    "# Model_selection is used for splitting data into training and test sets."
   ],
   "outputs": [],
   "metadata": {}
  },
  {
   "cell_type": "code",
   "execution_count": 17,
   "source": [
    "# In a new code cell, load the diabetes dataset by calling load_diabetes(). \r\n",
    "# The input return_X_y=True signals that X will be a data matrix, and y will be the regression target.\r\n",
    "# Adding some print commands to show the shape of the data matrix and its first element:\r\n",
    "X, y = datasets.load_diabetes(return_X_y=True)\r\n",
    "print(X.shape)\r\n",
    "print(X[0])"
   ],
   "outputs": [
    {
     "output_type": "stream",
     "name": "stdout",
     "text": [
      "(442, 10)\n",
      "[ 0.03807591  0.05068012  0.06169621  0.02187235 -0.0442235  -0.03482076\n",
      " -0.04340085 -0.00259226  0.01990842 -0.01764613]\n"
     ]
    }
   ],
   "metadata": {}
  },
  {
   "cell_type": "code",
   "execution_count": 18,
   "source": [
    "# Select a portion of this dataset to plot by arranging it into a new array using numpy's newaxis function. \r\n",
    "# We are going to use linear regression to generate a line between values in this data, according to a pattern it determines.\r\n",
    "X = X[:, np.newaxis, 0]"
   ],
   "outputs": [],
   "metadata": {}
  },
  {
   "cell_type": "code",
   "execution_count": 19,
   "source": [
    "# Now that you have data ready to be plotted, you can see if a machine can help determine a logical split between the numbers in this dataset. \r\n",
    "# To do this, you need to split both the data (X) and the target (y) into test and training sets.\r\n",
    "# Scikit-learn has a straightforward way to do this; you can split your test data at a given point.\r\n",
    "X_train, X_test, y_train, y_test = model_selection.train_test_split(X, y, test_size=0.33)"
   ],
   "outputs": [],
   "metadata": {}
  },
  {
   "cell_type": "code",
   "execution_count": 20,
   "source": [
    "# Now you are ready to train your model! Load up the linear regression model and train it with your X and y training sets using model.fit():\r\n",
    "model = linear_model.LinearRegression()\r\n",
    "model.fit(X_train, y_train)"
   ],
   "outputs": [
    {
     "output_type": "execute_result",
     "data": {
      "text/plain": [
       "LinearRegression()"
      ]
     },
     "metadata": {},
     "execution_count": 20
    }
   ],
   "metadata": {}
  },
  {
   "cell_type": "code",
   "execution_count": 21,
   "source": [
    "# Then, create a prediction using test data, using the function predict(). This will be used to draw the line between data groups\r\n",
    "y_pred = model.predict(X_test)"
   ],
   "outputs": [],
   "metadata": {}
  },
  {
   "cell_type": "code",
   "execution_count": 22,
   "source": [
    "# Now it's time to show the data in a plot. Matplotlib is a very useful tool for this task. \r\n",
    "# Create a scatterplot of all the X and y test data, and use the prediction to draw a line in the most appropriate place, between the model's data groupings.\r\n",
    "plt.scatter(X_test, y_test,  color='black')\r\n",
    "plt.plot(X_test, y_pred, color='blue', linewidth=3)\r\n",
    "plt.show()"
   ],
   "outputs": [
    {
     "output_type": "display_data",
     "data": {
      "text/plain": [
       "<Figure size 432x288 with 1 Axes>"
      ],
      "image/png": "[encoded data removed]"
     },
     "metadata": {
      "needs_background": "light"
     }
    }
   ],
   "metadata": {}
  }
 ],
 "metadata": {
  "orig_nbformat": 4,
  "language_info": {
   "name": "python",
   "version": "3.9.6",
   "mimetype": "text/x-python",
   "codemirror_mode": {
    "name": "ipython",
    "version": 3
   },
   "pygments_lexer": "ipython3",
   "nbconvert_exporter": "python",
   "file_extension": ".py"
  },
  "kernelspec": {
   "name": "python3",
   "display_name": "Python 3.9.6 64-bit"
  },
  "interpreter": {
   "hash": "e3362174f5d106eb6113489c823a7d8c26ce322f169359b6f42d9e4d5f438f08"
  }
 },
 "nbformat": 4,
 "nbformat_minor": 2
}